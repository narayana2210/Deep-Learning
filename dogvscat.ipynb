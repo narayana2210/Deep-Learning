{
 "cells": [
  {
   "cell_type": "code",
   "execution_count": 5,
   "metadata": {},
   "outputs": [],
   "source": [
    "test_dir=\"C:\\\\Users\\\\naray\\\\Desktop\\\\Kaggle\\\\dogvscat\\\\dataset\\\\test_set\"\n",
    "train_dir=\"C:\\\\Users\\\\naray\\\\Desktop\\\\Kaggle\\\\dogvscat\\\\dataset\\\\training_set\""
   ]
  },
  {
   "cell_type": "code",
   "execution_count": 6,
   "metadata": {},
   "outputs": [
    {
     "name": "stdout",
     "output_type": "stream",
     "text": [
      "Found 8000 images belonging to 2 classes.\n",
      "Found 2000 images belonging to 2 classes.\n"
     ]
    }
   ],
   "source": [
    "from keras.preprocessing.image import ImageDataGenerator\n",
    "\n",
    "train_datagen = ImageDataGenerator(rescale = 1./255)\n",
    "\n",
    "test_datagen = ImageDataGenerator(rescale = 1./255)\n",
    "\n",
    "batch_size=64\n",
    "\n",
    "training_set = train_datagen.flow_from_directory(train_dir,\n",
    "target_size = (100, 100),\n",
    "batch_size = batch_size,\n",
    "color_mode='rgb',\n",
    "class_mode = 'binary',\n",
    "shuffle=True)\n",
    "\n",
    "test_set = test_datagen.flow_from_directory(test_dir,\n",
    "target_size = (100, 100),\n",
    "batch_size = batch_size,\n",
    "color_mode='rgb',\n",
    "class_mode = 'binary')"
   ]
  },
  {
   "cell_type": "code",
   "execution_count": 7,
   "metadata": {},
   "outputs": [],
   "source": [
    "import keras\n",
    "from keras.models import Sequential\n",
    "from keras.layers import Conv2D, Activation, MaxPooling2D, Flatten, Dense\n",
    "from keras.optimizers import adam\n",
    "import numpy as np"
   ]
  },
  {
   "cell_type": "code",
   "execution_count": 8,
   "metadata": {},
   "outputs": [
    {
     "name": "stdout",
     "output_type": "stream",
     "text": [
      "WARNING:tensorflow:From C:\\Users\\naray\\Anaconda3\\lib\\site-packages\\tensorflow\\python\\framework\\op_def_library.py:263: colocate_with (from tensorflow.python.framework.ops) is deprecated and will be removed in a future version.\n",
      "Instructions for updating:\n",
      "Colocations handled automatically by placer.\n"
     ]
    }
   ],
   "source": [
    "# Initialising the CNN\n",
    "classifier = Sequential()\n",
    "\n",
    "# Step 1 - Convolution\n",
    "classifier.add(Conv2D(32, (3, 3), input_shape = (100, 100, 3)))\n",
    "classifier.add(Activation(\"relu\"))\n",
    "classifier.add(MaxPooling2D(pool_size = (3, 3)))\n",
    "classifier.add(Conv2D(64, (3, 3), input_shape = (100, 100, 3)))\n",
    "classifier.add(Activation(\"relu\"))\n",
    "classifier.add(MaxPooling2D(pool_size = (3, 3)))\n",
    "\n",
    "classifier.add(Flatten())\n",
    "\n",
    "classifier.add(Dense(64))\n",
    "classifier.add(Activation(\"relu\")) \n",
    "classifier.add(Dense(128))\n",
    "classifier.add(Activation(\"relu\")) \n",
    "classifier.add(Dense(activation = 'sigmoid', units=1))"
   ]
  },
  {
   "cell_type": "code",
   "execution_count": 9,
   "metadata": {},
   "outputs": [],
   "source": [
    "classifier.compile(optimizer = 'adam', loss = 'binary_crossentropy', metrics = ['accuracy'])"
   ]
  },
  {
   "cell_type": "code",
   "execution_count": 10,
   "metadata": {},
   "outputs": [
    {
     "name": "stdout",
     "output_type": "stream",
     "text": [
      "_________________________________________________________________\n",
      "Layer (type)                 Output Shape              Param #   \n",
      "=================================================================\n",
      "conv2d_1 (Conv2D)            (None, 98, 98, 32)        896       \n",
      "_________________________________________________________________\n",
      "activation_1 (Activation)    (None, 98, 98, 32)        0         \n",
      "_________________________________________________________________\n",
      "max_pooling2d_1 (MaxPooling2 (None, 32, 32, 32)        0         \n",
      "_________________________________________________________________\n",
      "conv2d_2 (Conv2D)            (None, 30, 30, 64)        18496     \n",
      "_________________________________________________________________\n",
      "activation_2 (Activation)    (None, 30, 30, 64)        0         \n",
      "_________________________________________________________________\n",
      "max_pooling2d_2 (MaxPooling2 (None, 10, 10, 64)        0         \n",
      "_________________________________________________________________\n",
      "flatten_1 (Flatten)          (None, 6400)              0         \n",
      "_________________________________________________________________\n",
      "dense_1 (Dense)              (None, 64)                409664    \n",
      "_________________________________________________________________\n",
      "activation_3 (Activation)    (None, 64)                0         \n",
      "_________________________________________________________________\n",
      "dense_2 (Dense)              (None, 128)               8320      \n",
      "_________________________________________________________________\n",
      "activation_4 (Activation)    (None, 128)               0         \n",
      "_________________________________________________________________\n",
      "dense_3 (Dense)              (None, 1)                 129       \n",
      "=================================================================\n",
      "Total params: 437,505\n",
      "Trainable params: 437,505\n",
      "Non-trainable params: 0\n",
      "_________________________________________________________________\n"
     ]
    }
   ],
   "source": [
    "classifier.summary()"
   ]
  },
  {
   "cell_type": "code",
   "execution_count": 12,
   "metadata": {},
   "outputs": [
    {
     "name": "stdout",
     "output_type": "stream",
     "text": [
      "Epoch 1/5\n",
      "125/125 [==============================] - 103s 827ms/step - loss: 0.5826 - acc: 0.6914 - val_loss: 0.5524 - val_acc: 0.7275\n",
      "Epoch 2/5\n",
      "125/125 [==============================] - 96s 770ms/step - loss: 0.5162 - acc: 0.7386 - val_loss: 0.5076 - val_acc: 0.7490\n",
      "Epoch 3/5\n",
      "125/125 [==============================] - 72s 578ms/step - loss: 0.4716 - acc: 0.7740 - val_loss: 0.4983 - val_acc: 0.7525\n",
      "Epoch 4/5\n",
      "125/125 [==============================] - 72s 578ms/step - loss: 0.4069 - acc: 0.8126 - val_loss: 0.4710 - val_acc: 0.7810\n",
      "Epoch 5/5\n",
      "125/125 [==============================] - 69s 553ms/step - loss: 0.3675 - acc: 0.8316 - val_loss: 0.5085 - val_acc: 0.7790\n"
     ]
    },
    {
     "data": {
      "text/plain": [
       "<keras.callbacks.History at 0x1884ff52668>"
      ]
     },
     "execution_count": 12,
     "metadata": {},
     "output_type": "execute_result"
    }
   ],
   "source": [
    "classifier.fit_generator(training_set,\n",
    "                        steps_per_epoch=np.ceil(training_set.samples / batch_size),\n",
    "                        epochs=5,\n",
    "                        validation_steps=np.ceil(test_set.samples / batch_size),\n",
    "                         validation_data=test_set\n",
    "                        )"
   ]
  },
  {
   "cell_type": "code",
   "execution_count": 5,
   "metadata": {},
   "outputs": [
    {
     "data": {
      "image/png": "[encoded data removed]",
      "text/plain": [
       "<Figure size 432x288 with 1 Axes>"
      ]
     },
     "metadata": {
      "needs_background": "light"
     },
     "output_type": "display_data"
    }
   ],
   "source": [
    "import matplotlib.pyplot as plt\n",
    "from tensorflow.keras.preprocessing import image\n",
    "test_image = image.load_img(\"C:\\\\Users\\\\naray\\\\Desktop\\\\Kaggle\\\\dogvscat\\\\dataset\\\\training_set\\\\cats\\\\cat.5.jpg\", target_size = (100, 100)) \n",
    "plt.imshow(test_image)\n",
    "plt.grid(None) \n",
    "plt.show()"
   ]
  },
  {
   "cell_type": "code",
   "execution_count": 6,
   "metadata": {},
   "outputs": [],
   "source": [
    "res_list= [\"It's a cat !\",\"It's a dog !\"]"
   ]
  },
  {
   "cell_type": "code",
   "execution_count": 8,
   "metadata": {},
   "outputs": [
    {
     "name": "stdout",
     "output_type": "stream",
     "text": [
      "[[[  3.   2.   7.]\n",
      "  [  1.   0.   5.]\n",
      "  [  0.   0.   4.]\n",
      "  ...\n",
      "  [242. 254. 254.]\n",
      "  [244. 254. 255.]\n",
      "  [246. 255. 254.]]\n",
      "\n",
      " [[  0.   0.   4.]\n",
      "  [  0.   0.   4.]\n",
      "  [  0.   0.   4.]\n",
      "  ...\n",
      "  [235. 255. 253.]\n",
      "  [236. 255. 253.]\n",
      "  [239. 253. 253.]]\n",
      "\n",
      " [[  0.   1.   5.]\n",
      "  [  1.   2.   6.]\n",
      "  [  2.   3.   7.]\n",
      "  ...\n",
      "  [190. 217. 212.]\n",
      "  [200. 222. 219.]\n",
      "  [206. 226. 224.]]\n",
      "\n",
      " ...\n",
      "\n",
      " [[178. 207. 211.]\n",
      "  [130. 159. 167.]\n",
      "  [ 79. 107. 121.]\n",
      "  ...\n",
      "  [224. 253. 248.]\n",
      "  [210. 241. 235.]\n",
      "  [231. 255. 255.]]\n",
      "\n",
      " [[129. 156. 165.]\n",
      "  [ 76. 104. 116.]\n",
      "  [ 45.  72.  93.]\n",
      "  ...\n",
      "  [208. 251. 242.]\n",
      "  [169. 215. 205.]\n",
      "  [212. 255. 248.]]\n",
      "\n",
      " [[ 48.  74.  89.]\n",
      "  [ 27.  52.  72.]\n",
      "  [ 44.  70.  97.]\n",
      "  ...\n",
      "  [180. 240. 228.]\n",
      "  [193. 255. 243.]\n",
      "  [165. 229. 215.]]]\n"
     ]
    }
   ],
   "source": [
    "test_image = image.img_to_array(test_image)\n",
    "test_image = np.expand_dims(test_image, axis = 0)\n",
    "#print(test_image)"
   ]
  },
  {
   "cell_type": "code",
   "execution_count": 17,
   "metadata": {},
   "outputs": [
    {
     "name": "stdout",
     "output_type": "stream",
     "text": [
      "It's a dog !\n"
     ]
    }
   ],
   "source": [
    "print(res_list[int(classifier.predict(test_image))])"
   ]
  },
  {
   "cell_type": "code",
   "execution_count": 18,
   "metadata": {},
   "outputs": [
    {
     "data": {
      "text/plain": [
       "array([[1.]], dtype=float32)"
      ]
     },
     "execution_count": 18,
     "metadata": {},
     "output_type": "execute_result"
    }
   ],
   "source": [
    "classifier.predict(test_image)"
   ]
  },
  {
   "cell_type": "code",
   "execution_count": null,
   "metadata": {},
   "outputs": [],
   "source": []
  }
 ],
 "metadata": {
  "kernelspec": {
   "display_name": "Python 3",
   "language": "python",
   "name": "python3"
  },
  "language_info": {
   "codemirror_mode": {
    "name": "ipython",
    "version": 3
   },
   "file_extension": ".py",
   "mimetype": "text/x-python",
   "name": "python",
   "nbconvert_exporter": "python",
   "pygments_lexer": "ipython3",
   "version": "3.6.8"
  }
 },
 "nbformat": 4,
 "nbformat_minor": 2
}
